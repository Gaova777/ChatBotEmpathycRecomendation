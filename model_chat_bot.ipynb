{
 "cells": [
  {
   "cell_type": "markdown",
   "metadata": {},
   "source": [
    "### ***Preprocessing of Data***\n",
    "\n",
    "using the dataset mental_heath, we are goin to build a model that Generating Emphatic answers to Chatbot of psychologic Support\n",
    "\n",
    "✅ Goal: Train a model to generate emphatic Answers to comments of persons with ansiety or depression.\n",
    "\n",
    "✅ Tecnics:\n",
    "\n",
    "- Fine-tuning de GPT-3, LLaMA-2 o T5 In Conversations of emotional support.\n",
    "- Uso de RLHF (Reinforcement Learning from Human Feedback) To Improve the Quality of the answers.\n",
    "- Incorporation of psychological Writting styles based on models like BERT-Empathy"
   ]
  },
  {
   "cell_type": "markdown",
   "metadata": {},
   "source": []
  },
  {
   "cell_type": "markdown",
   "metadata": {},
   "source": [
    "### Preparation of Dataset"
   ]
  },
  {
   "cell_type": "code",
   "execution_count": 4,
   "metadata": {},
   "outputs": [],
   "source": [
    "import pandas as pd\n",
    "import re\n",
    "import nltk\n",
    "from nltk.corpus import stopwords"
   ]
  },
  {
   "cell_type": "code",
   "execution_count": 5,
   "metadata": {},
   "outputs": [
    {
     "name": "stderr",
     "output_type": "stream",
     "text": [
      "[nltk_data] Downloading package stopwords to\n",
      "[nltk_data]     C:\\Users\\juan\\AppData\\Roaming\\nltk_data...\n",
      "[nltk_data]   Unzipping corpora\\stopwords.zip.\n"
     ]
    },
    {
     "data": {
      "text/plain": [
       "True"
      ]
     },
     "execution_count": 5,
     "metadata": {},
     "output_type": "execute_result"
    }
   ],
   "source": [
    "nltk.download('stopwords')"
   ]
  },
  {
   "cell_type": "code",
   "execution_count": 9,
   "metadata": {},
   "outputs": [],
   "source": [
    "\n",
    "df = pd.read_csv('./dataset/mental_health.csv')\n",
    "df = df.head(1000)"
   ]
  },
  {
   "cell_type": "code",
   "execution_count": null,
   "metadata": {},
   "outputs": [],
   "source": [
    "def clean_text(text):\n",
    "    text = text.lower()\n",
    "    text = re.sub(r'\\W+', ' ', text)  \n",
    "    words = text.split()\n",
    "    words = [word for word in words if word not in stopwords.words('english')]\n",
    "    return \" \".join(words)\n",
    "\n",
    "df['clean_text'] = df['text'].apply(clean_text)"
   ]
  },
  {
   "cell_type": "code",
   "execution_count": 11,
   "metadata": {},
   "outputs": [
    {
     "data": {
      "text/html": [
       "<div>\n",
       "<style scoped>\n",
       "    .dataframe tbody tr th:only-of-type {\n",
       "        vertical-align: middle;\n",
       "    }\n",
       "\n",
       "    .dataframe tbody tr th {\n",
       "        vertical-align: top;\n",
       "    }\n",
       "\n",
       "    .dataframe thead th {\n",
       "        text-align: right;\n",
       "    }\n",
       "</style>\n",
       "<table border=\"1\" class=\"dataframe\">\n",
       "  <thead>\n",
       "    <tr style=\"text-align: right;\">\n",
       "      <th></th>\n",
       "      <th>text</th>\n",
       "      <th>label</th>\n",
       "      <th>clean_text</th>\n",
       "    </tr>\n",
       "  </thead>\n",
       "  <tbody>\n",
       "    <tr>\n",
       "      <th>0</th>\n",
       "      <td>dear american teens question dutch person hear...</td>\n",
       "      <td>0</td>\n",
       "      <td>dear american teens question dutch person hear...</td>\n",
       "    </tr>\n",
       "    <tr>\n",
       "      <th>1</th>\n",
       "      <td>nothing look forward lifei dont many reasons k...</td>\n",
       "      <td>1</td>\n",
       "      <td>nothing look forward lifei dont many reasons k...</td>\n",
       "    </tr>\n",
       "    <tr>\n",
       "      <th>2</th>\n",
       "      <td>music recommendations im looking expand playli...</td>\n",
       "      <td>0</td>\n",
       "      <td>music recommendations im looking expand playli...</td>\n",
       "    </tr>\n",
       "    <tr>\n",
       "      <th>3</th>\n",
       "      <td>im done trying feel betterthe reason im still ...</td>\n",
       "      <td>1</td>\n",
       "      <td>im done trying feel betterthe reason im still ...</td>\n",
       "    </tr>\n",
       "    <tr>\n",
       "      <th>4</th>\n",
       "      <td>worried  year old girl subject domestic physic...</td>\n",
       "      <td>1</td>\n",
       "      <td>worried year old girl subject domestic physica...</td>\n",
       "    </tr>\n",
       "    <tr>\n",
       "      <th>5</th>\n",
       "      <td>hey rredflag sure right place post this goes  ...</td>\n",
       "      <td>1</td>\n",
       "      <td>hey rredflag sure right place post goes im cur...</td>\n",
       "    </tr>\n",
       "    <tr>\n",
       "      <th>6</th>\n",
       "      <td>feel like someone needs hear tonight feeling r...</td>\n",
       "      <td>0</td>\n",
       "      <td>feel like someone needs hear tonight feeling r...</td>\n",
       "    </tr>\n",
       "    <tr>\n",
       "      <th>7</th>\n",
       "      <td>deserve liveif died right noone would carei re...</td>\n",
       "      <td>1</td>\n",
       "      <td>deserve liveif died right noone would carei re...</td>\n",
       "    </tr>\n",
       "    <tr>\n",
       "      <th>8</th>\n",
       "      <td>feels good ive set dateim killing friday nice ...</td>\n",
       "      <td>1</td>\n",
       "      <td>feels good ive set dateim killing friday nice ...</td>\n",
       "    </tr>\n",
       "    <tr>\n",
       "      <th>9</th>\n",
       "      <td>live guiltok made stupid random choice  its ge...</td>\n",
       "      <td>1</td>\n",
       "      <td>live guiltok made stupid random choice getting...</td>\n",
       "    </tr>\n",
       "  </tbody>\n",
       "</table>\n",
       "</div>"
      ],
      "text/plain": [
       "                                                text  label  \\\n",
       "0  dear american teens question dutch person hear...      0   \n",
       "1  nothing look forward lifei dont many reasons k...      1   \n",
       "2  music recommendations im looking expand playli...      0   \n",
       "3  im done trying feel betterthe reason im still ...      1   \n",
       "4  worried  year old girl subject domestic physic...      1   \n",
       "5  hey rredflag sure right place post this goes  ...      1   \n",
       "6  feel like someone needs hear tonight feeling r...      0   \n",
       "7  deserve liveif died right noone would carei re...      1   \n",
       "8  feels good ive set dateim killing friday nice ...      1   \n",
       "9  live guiltok made stupid random choice  its ge...      1   \n",
       "\n",
       "                                          clean_text  \n",
       "0  dear american teens question dutch person hear...  \n",
       "1  nothing look forward lifei dont many reasons k...  \n",
       "2  music recommendations im looking expand playli...  \n",
       "3  im done trying feel betterthe reason im still ...  \n",
       "4  worried year old girl subject domestic physica...  \n",
       "5  hey rredflag sure right place post goes im cur...  \n",
       "6  feel like someone needs hear tonight feeling r...  \n",
       "7  deserve liveif died right noone would carei re...  \n",
       "8  feels good ive set dateim killing friday nice ...  \n",
       "9  live guiltok made stupid random choice getting...  "
      ]
     },
     "execution_count": 11,
     "metadata": {},
     "output_type": "execute_result"
    }
   ],
   "source": [
    "df.head(10)"
   ]
  },
  {
   "cell_type": "code",
   "execution_count": null,
   "metadata": {},
   "outputs": [],
   "source": []
  }
 ],
 "metadata": {
  "kernelspec": {
   "display_name": "chatbotia",
   "language": "python",
   "name": "python3"
  },
  "language_info": {
   "codemirror_mode": {
    "name": "ipython",
    "version": 3
   },
   "file_extension": ".py",
   "mimetype": "text/x-python",
   "name": "python",
   "nbconvert_exporter": "python",
   "pygments_lexer": "ipython3",
   "version": "3.9.21"
  }
 },
 "nbformat": 4,
 "nbformat_minor": 2
}
